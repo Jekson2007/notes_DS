{
 "cells": [
  {
   "cell_type": "code",
   "execution_count": null,
   "id": "b2566dec",
   "metadata": {},
   "outputs": [],
   "source": [
    "# https://dev.drugbank.com/guides/tutorials/api_authentication"
   ]
  },
  {
   "cell_type": "code",
   "execution_count": null,
   "id": "690b0bfc",
   "metadata": {},
   "outputs": [],
   "source": [
    "import json, requests\n",
    "\n",
    "API_KEY = \"...\" # paste your API key here\n",
    "HEADERS = {\n",
    "    'authorization': API_KEY\n",
    "}\n",
    "\n",
    "url = \"https://api.drugbank.com/v1/us/drug_names\"\n",
    "params = { \"q\": \"Tylenol\" }\n",
    "response = requests.get(url, params=params, headers=HEADERS)\n",
    "print(response.json())"
   ]
  },
  {
   "cell_type": "code",
   "execution_count": null,
   "id": "4bdcc060",
   "metadata": {},
   "outputs": [],
   "source": []
  },
  {
   "cell_type": "code",
   "execution_count": null,
   "id": "67f87e24",
   "metadata": {},
   "outputs": [],
   "source": [
    "# чебные базы данных MySQL для тренировок\n"
   ]
  },
  {
   "cell_type": "code",
   "execution_count": null,
   "id": "72c4364e",
   "metadata": {},
   "outputs": [],
   "source": []
  },
  {
   "cell_type": "code",
   "execution_count": null,
   "id": "ffc733be",
   "metadata": {},
   "outputs": [],
   "source": [
    "#“how to connect mysql database in jupyter notebook” Code Answer’s\n",
    "# https://www.codegrepper.com/code-examples/python/how+to+connect+mysql+database+in+jupyter+notebook\n",
    "# In the python cmd, install packages:\n",
    "# pip3 install pymysql\n",
    "# pip3 install ipython-sql\n",
    "# pip3 install mysqlclient\n",
    "\n",
    "# in the jupyter notebook:\n",
    "import pymysql\n",
    "import pandas as pd\n",
    "\n",
    "conn=pymysql.connect(host='localhost',port=int(3306),user='root',passwd='YOUR_PASSWORD',db='YOUR_DATABASENAME')\n",
    "\n",
    "df=pd.read_sql_query(\"SELECT * FROM 'YOUR_TABLENAME' \",conn)\n",
    "\n",
    "print(df)"
   ]
  },
  {
   "cell_type": "code",
   "execution_count": null,
   "id": "11eb0397",
   "metadata": {},
   "outputs": [],
   "source": [
    "# how to connect mysql database in jupyter notebook\n",
    "# %%\n",
    "%load_ext sql\n",
    "\n",
    "# %%\n",
    "%sql mysql+mysqldb://<user>:<password>@localhost/<dataBase>\n",
    "\n",
    "# %%\n",
    "%%sql\n",
    "\n",
    "SELECT *\n",
    "FROM <table>;"
   ]
  }
 ],
 "metadata": {
  "kernelspec": {
   "display_name": "Python 3 (ipykernel)",
   "language": "python",
   "name": "python3"
  },
  "language_info": {
   "codemirror_mode": {
    "name": "ipython",
    "version": 3
   },
   "file_extension": ".py",
   "mimetype": "text/x-python",
   "name": "python",
   "nbconvert_exporter": "python",
   "pygments_lexer": "ipython3",
   "version": "3.10.5"
  }
 },
 "nbformat": 4,
 "nbformat_minor": 5
}
