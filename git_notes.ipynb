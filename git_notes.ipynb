{
 "cells": [
  {
   "cell_type": "markdown",
   "id": "cb0eff4d",
   "metadata": {},
   "source": [
    "[Для підключення локального репозиторію](https://www.lenakso.top/podklyuchenie-lokalnogo-repozitoriya-k-udalennomu-repozitoriyu-github/) перейти до необхідної директорії та виконати команду =>\n",
    "\n",
    "git init\n",
    "\n",
    "< для відміни цієї команди потрібно видалити .git директорію командою => rm -rf .git>\n",
    "\n",
    "Після підключаємо створений локальний репозиторій до віддаленого на github.com =>\n",
    "\n",
    "git remote add origin https://github.com/Jekson2007/notes_DS/\n",
    "\n",
    "для підєднання до репозиторію потрібно додати ssh ключ:\n",
    "\n",
    "* генеруєм ключ командою => ssh-keygen\n",
    "* в висвітленому шляху відкриваємо id_rsa.pub та копіюємо\n",
    "* переходимо до github.com > іконка > Settings > SSH and GPG keys> New SSH key > вставити до ячейки > Add SSH key\n",
    "\n",
    "до локального репозиторію додаємо файли => git add .\n",
    "створюємо ініціалізуючий коміт => git commit -m ['initial commit'](https://itsmycode.com/git-error-src-refspec-master-does-not-match-any/)\n",
    "відправляємо вмістиме до віддаленого репозиторію => git push"
   ]
  },
  {
   "cell_type": "markdown",
   "id": "7694387f",
   "metadata": {},
   "source": [
    "https://stackoverflow.com/questions/23401652/fatal-the-current-branch-master-has-no-upstream-branch\n",
    "\n"
   ]
  },
  {
   "cell_type": "code",
   "execution_count": null,
   "id": "f25da771",
   "metadata": {},
   "outputs": [],
   "source": []
  }
 ],
 "metadata": {
  "kernelspec": {
   "display_name": "Python 3 (ipykernel)",
   "language": "python",
   "name": "python3"
  },
  "language_info": {
   "codemirror_mode": {
    "name": "ipython",
    "version": 3
   },
   "file_extension": ".py",
   "mimetype": "text/x-python",
   "name": "python",
   "nbconvert_exporter": "python",
   "pygments_lexer": "ipython3",
   "version": "3.10.5"
  }
 },
 "nbformat": 4,
 "nbformat_minor": 5
}
