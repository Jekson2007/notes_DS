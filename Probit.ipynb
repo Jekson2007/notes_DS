{
 "cells": [
  {
   "cell_type": "code",
   "execution_count": 78,
   "id": "6bcf397c",
   "metadata": {},
   "outputs": [
    {
     "data": {
      "text/html": [
       "<div>\n",
       "<style scoped>\n",
       "    .dataframe tbody tr th:only-of-type {\n",
       "        vertical-align: middle;\n",
       "    }\n",
       "\n",
       "    .dataframe tbody tr th {\n",
       "        vertical-align: top;\n",
       "    }\n",
       "\n",
       "    .dataframe thead th {\n",
       "        text-align: right;\n",
       "    }\n",
       "</style>\n",
       "<table border=\"1\" class=\"dataframe\">\n",
       "  <thead>\n",
       "    <tr style=\"text-align: right;\">\n",
       "      <th></th>\n",
       "      <th>dose</th>\n",
       "      <th>Survived</th>\n",
       "    </tr>\n",
       "  </thead>\n",
       "  <tbody>\n",
       "    <tr>\n",
       "      <th>0</th>\n",
       "      <td>38</td>\n",
       "      <td>1</td>\n",
       "    </tr>\n",
       "    <tr>\n",
       "      <th>1</th>\n",
       "      <td>38</td>\n",
       "      <td>1</td>\n",
       "    </tr>\n",
       "    <tr>\n",
       "      <th>2</th>\n",
       "      <td>38</td>\n",
       "      <td>1</td>\n",
       "    </tr>\n",
       "    <tr>\n",
       "      <th>3</th>\n",
       "      <td>38</td>\n",
       "      <td>1</td>\n",
       "    </tr>\n",
       "    <tr>\n",
       "      <th>4</th>\n",
       "      <td>38</td>\n",
       "      <td>1</td>\n",
       "    </tr>\n",
       "    <tr>\n",
       "      <th>...</th>\n",
       "      <td>...</td>\n",
       "      <td>...</td>\n",
       "    </tr>\n",
       "    <tr>\n",
       "      <th>255</th>\n",
       "      <td>47</td>\n",
       "      <td>0</td>\n",
       "    </tr>\n",
       "    <tr>\n",
       "      <th>256</th>\n",
       "      <td>47</td>\n",
       "      <td>0</td>\n",
       "    </tr>\n",
       "    <tr>\n",
       "      <th>257</th>\n",
       "      <td>47</td>\n",
       "      <td>0</td>\n",
       "    </tr>\n",
       "    <tr>\n",
       "      <th>258</th>\n",
       "      <td>47</td>\n",
       "      <td>0</td>\n",
       "    </tr>\n",
       "    <tr>\n",
       "      <th>259</th>\n",
       "      <td>47</td>\n",
       "      <td>0</td>\n",
       "    </tr>\n",
       "  </tbody>\n",
       "</table>\n",
       "<p>260 rows × 2 columns</p>\n",
       "</div>"
      ],
      "text/plain": [
       "     dose  Survived\n",
       "0      38         1\n",
       "1      38         1\n",
       "2      38         1\n",
       "3      38         1\n",
       "4      38         1\n",
       "..    ...       ...\n",
       "255    47         0\n",
       "256    47         0\n",
       "257    47         0\n",
       "258    47         0\n",
       "259    47         0\n",
       "\n",
       "[260 rows x 2 columns]"
      ]
     },
     "execution_count": 78,
     "metadata": {},
     "output_type": "execute_result"
    }
   ],
   "source": [
    "import statsmodels.api as sm\n",
    "import statsmodels.formula.api as smf\n",
    "import numpy as np\n",
    "\n",
    "dose = [38,40,40,40,42,42,42,44,44,44,47,47,47]\n",
    "alive = [20,20,20,20,19,14,15,5,3,2,0,0,0]\n",
    "dead = [0,0,0,0,1,6,5,15,17,18,20,20,20]\n",
    "\n",
    "data_for_df = []\n",
    "for i, j in zip(dose, alive):\n",
    "    for n in range(j):\n",
    "        data_for_df.append((i,1))\n",
    "for i, j in zip(dose, dead):\n",
    "    for n in range(j):\n",
    "        data_for_df.append((i,0))  \n",
    "df = pd.DataFrame(columns=['dose', 'Survived'])\n",
    "df[['dose', 'Survived']] = data_for_df\n",
    "df"
   ]
  },
  {
   "cell_type": "code",
   "execution_count": 79,
   "id": "e76b3107",
   "metadata": {},
   "outputs": [
    {
     "data": {
      "text/html": [
       "<table class=\"simpletable\">\n",
       "<caption>Generalized Linear Model Regression Results</caption>\n",
       "<tr>\n",
       "  <th>Dep. Variable:</th>       <td>Survived</td>     <th>  No. Observations:  </th>  <td>   260</td> \n",
       "</tr>\n",
       "<tr>\n",
       "  <th>Model:</th>                  <td>GLM</td>       <th>  Df Residuals:      </th>  <td>   258</td> \n",
       "</tr>\n",
       "<tr>\n",
       "  <th>Model Family:</th>        <td>Binomial</td>     <th>  Df Model:          </th>  <td>     1</td> \n",
       "</tr>\n",
       "<tr>\n",
       "  <th>Link Function:</th>         <td>Logit</td>      <th>  Scale:             </th> <td>  1.0000</td>\n",
       "</tr>\n",
       "<tr>\n",
       "  <th>Method:</th>                <td>IRLS</td>       <th>  Log-Likelihood:    </th> <td> -57.791</td>\n",
       "</tr>\n",
       "<tr>\n",
       "  <th>Date:</th>            <td>Sat, 13 Aug 2022</td> <th>  Deviance:          </th> <td>  115.58</td>\n",
       "</tr>\n",
       "<tr>\n",
       "  <th>Time:</th>                <td>18:25:42</td>     <th>  Pearson chi2:      </th>  <td>  130.</td> \n",
       "</tr>\n",
       "<tr>\n",
       "  <th>No. Iterations:</th>          <td>7</td>        <th>  Pseudo R-squ. (CS):</th>  <td>0.6086</td> \n",
       "</tr>\n",
       "<tr>\n",
       "  <th>Covariance Type:</th>     <td>nonrobust</td>    <th>                     </th>     <td> </td>   \n",
       "</tr>\n",
       "</table>\n",
       "<table class=\"simpletable\">\n",
       "<tr>\n",
       "      <td></td>         <th>coef</th>     <th>std err</th>      <th>z</th>      <th>P>|z|</th>  <th>[0.025</th>    <th>0.975]</th>  \n",
       "</tr>\n",
       "<tr>\n",
       "  <th>Intercept</th> <td>   69.1126</td> <td>    9.019</td> <td>    7.663</td> <td> 0.000</td> <td>   51.436</td> <td>   86.789</td>\n",
       "</tr>\n",
       "<tr>\n",
       "  <th>dose</th>      <td>   -1.6094</td> <td>    0.210</td> <td>   -7.653</td> <td> 0.000</td> <td>   -2.022</td> <td>   -1.197</td>\n",
       "</tr>\n",
       "</table>"
      ],
      "text/plain": [
       "<class 'statsmodels.iolib.summary.Summary'>\n",
       "\"\"\"\n",
       "                 Generalized Linear Model Regression Results                  \n",
       "==============================================================================\n",
       "Dep. Variable:               Survived   No. Observations:                  260\n",
       "Model:                            GLM   Df Residuals:                      258\n",
       "Model Family:                Binomial   Df Model:                            1\n",
       "Link Function:                  Logit   Scale:                          1.0000\n",
       "Method:                          IRLS   Log-Likelihood:                -57.791\n",
       "Date:                Sat, 13 Aug 2022   Deviance:                       115.58\n",
       "Time:                        18:25:42   Pearson chi2:                     130.\n",
       "No. Iterations:                     7   Pseudo R-squ. (CS):             0.6086\n",
       "Covariance Type:            nonrobust                                         \n",
       "==============================================================================\n",
       "                 coef    std err          z      P>|z|      [0.025      0.975]\n",
       "------------------------------------------------------------------------------\n",
       "Intercept     69.1126      9.019      7.663      0.000      51.436      86.789\n",
       "dose          -1.6094      0.210     -7.653      0.000      -2.022      -1.197\n",
       "==============================================================================\n",
       "\"\"\""
      ]
     },
     "execution_count": 79,
     "metadata": {},
     "output_type": "execute_result"
    }
   ],
   "source": [
    "model = smf.glm(formula=\"Survived ~ dose\", data=df, family=sm.families.Binomial())\n",
    "result = model.fit()\n",
    "result.summary()"
   ]
  },
  {
   "cell_type": "markdown",
   "id": "c2f75f74",
   "metadata": {},
   "source": [
    "$$x_p = \\frac{logit(p)-\\beta_{0}}{\\beta_{1}}=\\frac{logit(p)-Intercept}{coef_{dose}}$$\n",
    "$$dose_{0.5} = \\frac{ln(\\frac{0.5}{1-0.5})-259.4485}{-69.0115} = 42.9267$$\n",
    "\n",
    "https://bookdown.org/dereksonderegger/571/11-binomial-regression.html#prediction-and-effective-dose-levels"
   ]
  },
  {
   "cell_type": "code",
   "execution_count": 100,
   "id": "830c5d2f",
   "metadata": {},
   "outputs": [
    {
     "data": {
      "text/plain": [
       "-0.6213326565715561"
      ]
     },
     "execution_count": 100,
     "metadata": {},
     "output_type": "execute_result"
    }
   ],
   "source": [
    "def logit(p):\n",
    "    return np.log(p/(1-p))\n",
    "\n",
    "def invlogit(x):\n",
    "    # inverse function of logit\n",
    "    return 1/(1+np.exp(-x))\n",
    "\n",
    "dose = (logit(0.5)-result.params.Intercept)/result.params['dose'] # 42.941936818804464\n",
    "1/result.params['dose']"
   ]
  },
  {
   "cell_type": "code",
   "execution_count": 109,
   "id": "38042194",
   "metadata": {},
   "outputs": [],
   "source": [
    "# SE error\n",
    "\n",
    "#https://stats.stackexchange.com/questions/483362/pointwise-standard-errors-for-a-logistic-regression-fit-with-statsmodels\n",
    "#https://github.com/cran/MASS/blob/master/R/dose.p.R\n",
    "#https://lukemiller.org/index.php/2010/02/calculating-lt50-median-lethal-temperature-aka-ld50-quickly-in-r/\n",
    "def dose_p(model, p=0.5):\n",
    "    logit = lambda p: np.log(p/(1-p))\n",
    "    dose = (logit(p)-result.params.Intercept)/result.params['dose']\n",
    "    C = result.normalized_cov_params\n",
    "    L_T = np.array([1/result.params['dose'], dose/result.params['dose']])\n",
    "    # Compute the pointwise standard error, as outlined above\n",
    "    L_T = np.matrix(L_T)\n",
    "    L = np.transpose(L_T)\n",
    "    C = np.matrix(C)\n",
    "\n",
    "    var_f = np.matmul(np.matmul(L_T, C), L)\n",
    "    var_f = np.asarray(var_f)[0][0]\n",
    "    pointwise_se = np.sqrt(var_f) \n",
    "#     print(pointwise_se)\n",
    "    return dose, pointwise_se"
   ]
  },
  {
   "cell_type": "code",
   "execution_count": null,
   "id": "47275280",
   "metadata": {},
   "outputs": [],
   "source": [
    "#https://web.pdx.edu/~joel8/resources/ConceptualPresentationResources/LogisticRegression_DoseResponse.pdf\n",
    "#https://pubmed.ncbi.nlm.nih.gov/33909080/"
   ]
  },
  {
   "cell_type": "code",
   "execution_count": 132,
   "id": "823f2184",
   "metadata": {},
   "outputs": [
    {
     "data": {
      "text/plain": [
       "(38.88383099017503, 0.5416646661584501)"
      ]
     },
     "execution_count": 132,
     "metadata": {},
     "output_type": "execute_result"
    }
   ],
   "source": [
    "dose_p(result, 1-0.001455)"
   ]
  },
  {
   "cell_type": "code",
   "execution_count": 131,
   "id": "b8d3004a",
   "metadata": {},
   "outputs": [
    {
     "data": {
      "text/plain": [
       "0    0.001455\n",
       "dtype: float64"
      ]
     },
     "execution_count": 131,
     "metadata": {},
     "output_type": "execute_result"
    }
   ],
   "source": [
    "result.predict({'dose':47})"
   ]
  },
  {
   "cell_type": "markdown",
   "id": "1cca82ec",
   "metadata": {},
   "source": [
    "Стоит отметить, что остаточное отклонение здесь (8,309) меньше, чем наши остаточные степени свободы (11), что означает, что наши данные не чрезмерно рассеяны. Если остаточное отклонение было чем-то большим, например, 20 по сравнению с нашими 11 остаточными степенями свободы, возможно, стоит попробовать логарифмическое преобразование значений обработки. Это может иметь место, если вы вводили дозы какого-либо препарата в очень широком диапазоне концентраций. Чтобы выполнить логистическую регрессию на наших логарифмически преобразованных данных, мы просто немного изменим вызов glm:"
   ]
  },
  {
   "cell_type": "code",
   "execution_count": null,
   "id": "bc441b65",
   "metadata": {},
   "outputs": [],
   "source": [
    "# PROBIT"
   ]
  },
  {
   "cell_type": "code",
   "execution_count": null,
   "id": "612bb41c",
   "metadata": {},
   "outputs": [],
   "source": []
  },
  {
   "cell_type": "code",
   "execution_count": null,
   "id": "50a61006",
   "metadata": {},
   "outputs": [],
   "source": []
  },
  {
   "cell_type": "code",
   "execution_count": null,
   "id": "b3d3c67b",
   "metadata": {},
   "outputs": [],
   "source": [
    "#https://www.linkedin.com/pulse/simple-lc50-calculation-pesticide-toxicity-bioassay-using-adhiwibawa/"
   ]
  }
 ],
 "metadata": {
  "kernelspec": {
   "display_name": "Python 3 (ipykernel)",
   "language": "python",
   "name": "python3"
  },
  "language_info": {
   "codemirror_mode": {
    "name": "ipython",
    "version": 3
   },
   "file_extension": ".py",
   "mimetype": "text/x-python",
   "name": "python",
   "nbconvert_exporter": "python",
   "pygments_lexer": "ipython3",
   "version": "3.10.5"
  }
 },
 "nbformat": 4,
 "nbformat_minor": 5
}
