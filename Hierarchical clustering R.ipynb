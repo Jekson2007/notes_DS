{
 "cells": [
  {
   "cell_type": "code",
   "execution_count": null,
   "id": "9ffe3b9c",
   "metadata": {},
   "outputs": [],
   "source": []
  },
  {
   "cell_type": "code",
   "execution_count": 5,
   "id": "df49a73b",
   "metadata": {},
   "outputs": [
    {
     "name": "stderr",
     "output_type": "stream",
     "text": [
      "Warning message:\n",
      "\"пакет 'ggrepel' был собран под R версии 4.2.1\"\n",
      "Загрузка требуемого пакета: ggplot2\n",
      "\n"
     ]
    }
   ],
   "source": [
    "library(ggrepel)"
   ]
  },
  {
   "cell_type": "code",
   "execution_count": 6,
   "id": "fc2dddde",
   "metadata": {},
   "outputs": [
    {
     "name": "stderr",
     "output_type": "stream",
     "text": [
      "Warning message:\n",
      "\"ggrepel: 3 unlabeled data points (too many overlaps). Consider increasing max.overlaps\"\n"
     ]
    }
   ],
   "source": [
    "library(FactoMineR)\n",
    "df <- mtcars[,c(1,3:7)]\n",
    "res.pca <- PCA(df, graph=TRUE)"
   ]
  },
  {
   "cell_type": "code",
   "execution_count": 2,
   "id": "02365e2b",
   "metadata": {},
   "outputs": [
    {
     "data": {
      "text/html": [
       "<table class=\"dataframe\">\n",
       "<caption>A data.frame: 32 × 6</caption>\n",
       "<thead>\n",
       "\t<tr><th></th><th scope=col>mpg</th><th scope=col>disp</th><th scope=col>hp</th><th scope=col>drat</th><th scope=col>wt</th><th scope=col>qsec</th></tr>\n",
       "\t<tr><th></th><th scope=col>&lt;dbl&gt;</th><th scope=col>&lt;dbl&gt;</th><th scope=col>&lt;dbl&gt;</th><th scope=col>&lt;dbl&gt;</th><th scope=col>&lt;dbl&gt;</th><th scope=col>&lt;dbl&gt;</th></tr>\n",
       "</thead>\n",
       "<tbody>\n",
       "\t<tr><th scope=row>Mazda RX4</th><td>21.0</td><td>160.0</td><td>110</td><td>3.90</td><td>2.620</td><td>16.46</td></tr>\n",
       "\t<tr><th scope=row>Mazda RX4 Wag</th><td>21.0</td><td>160.0</td><td>110</td><td>3.90</td><td>2.875</td><td>17.02</td></tr>\n",
       "\t<tr><th scope=row>Datsun 710</th><td>22.8</td><td>108.0</td><td> 93</td><td>3.85</td><td>2.320</td><td>18.61</td></tr>\n",
       "\t<tr><th scope=row>Hornet 4 Drive</th><td>21.4</td><td>258.0</td><td>110</td><td>3.08</td><td>3.215</td><td>19.44</td></tr>\n",
       "\t<tr><th scope=row>Hornet Sportabout</th><td>18.7</td><td>360.0</td><td>175</td><td>3.15</td><td>3.440</td><td>17.02</td></tr>\n",
       "\t<tr><th scope=row>Valiant</th><td>18.1</td><td>225.0</td><td>105</td><td>2.76</td><td>3.460</td><td>20.22</td></tr>\n",
       "\t<tr><th scope=row>Duster 360</th><td>14.3</td><td>360.0</td><td>245</td><td>3.21</td><td>3.570</td><td>15.84</td></tr>\n",
       "\t<tr><th scope=row>Merc 240D</th><td>24.4</td><td>146.7</td><td> 62</td><td>3.69</td><td>3.190</td><td>20.00</td></tr>\n",
       "\t<tr><th scope=row>Merc 230</th><td>22.8</td><td>140.8</td><td> 95</td><td>3.92</td><td>3.150</td><td>22.90</td></tr>\n",
       "\t<tr><th scope=row>Merc 280</th><td>19.2</td><td>167.6</td><td>123</td><td>3.92</td><td>3.440</td><td>18.30</td></tr>\n",
       "\t<tr><th scope=row>Merc 280C</th><td>17.8</td><td>167.6</td><td>123</td><td>3.92</td><td>3.440</td><td>18.90</td></tr>\n",
       "\t<tr><th scope=row>Merc 450SE</th><td>16.4</td><td>275.8</td><td>180</td><td>3.07</td><td>4.070</td><td>17.40</td></tr>\n",
       "\t<tr><th scope=row>Merc 450SL</th><td>17.3</td><td>275.8</td><td>180</td><td>3.07</td><td>3.730</td><td>17.60</td></tr>\n",
       "\t<tr><th scope=row>Merc 450SLC</th><td>15.2</td><td>275.8</td><td>180</td><td>3.07</td><td>3.780</td><td>18.00</td></tr>\n",
       "\t<tr><th scope=row>Cadillac Fleetwood</th><td>10.4</td><td>472.0</td><td>205</td><td>2.93</td><td>5.250</td><td>17.98</td></tr>\n",
       "\t<tr><th scope=row>Lincoln Continental</th><td>10.4</td><td>460.0</td><td>215</td><td>3.00</td><td>5.424</td><td>17.82</td></tr>\n",
       "\t<tr><th scope=row>Chrysler Imperial</th><td>14.7</td><td>440.0</td><td>230</td><td>3.23</td><td>5.345</td><td>17.42</td></tr>\n",
       "\t<tr><th scope=row>Fiat 128</th><td>32.4</td><td> 78.7</td><td> 66</td><td>4.08</td><td>2.200</td><td>19.47</td></tr>\n",
       "\t<tr><th scope=row>Honda Civic</th><td>30.4</td><td> 75.7</td><td> 52</td><td>4.93</td><td>1.615</td><td>18.52</td></tr>\n",
       "\t<tr><th scope=row>Toyota Corolla</th><td>33.9</td><td> 71.1</td><td> 65</td><td>4.22</td><td>1.835</td><td>19.90</td></tr>\n",
       "\t<tr><th scope=row>Toyota Corona</th><td>21.5</td><td>120.1</td><td> 97</td><td>3.70</td><td>2.465</td><td>20.01</td></tr>\n",
       "\t<tr><th scope=row>Dodge Challenger</th><td>15.5</td><td>318.0</td><td>150</td><td>2.76</td><td>3.520</td><td>16.87</td></tr>\n",
       "\t<tr><th scope=row>AMC Javelin</th><td>15.2</td><td>304.0</td><td>150</td><td>3.15</td><td>3.435</td><td>17.30</td></tr>\n",
       "\t<tr><th scope=row>Camaro Z28</th><td>13.3</td><td>350.0</td><td>245</td><td>3.73</td><td>3.840</td><td>15.41</td></tr>\n",
       "\t<tr><th scope=row>Pontiac Firebird</th><td>19.2</td><td>400.0</td><td>175</td><td>3.08</td><td>3.845</td><td>17.05</td></tr>\n",
       "\t<tr><th scope=row>Fiat X1-9</th><td>27.3</td><td> 79.0</td><td> 66</td><td>4.08</td><td>1.935</td><td>18.90</td></tr>\n",
       "\t<tr><th scope=row>Porsche 914-2</th><td>26.0</td><td>120.3</td><td> 91</td><td>4.43</td><td>2.140</td><td>16.70</td></tr>\n",
       "\t<tr><th scope=row>Lotus Europa</th><td>30.4</td><td> 95.1</td><td>113</td><td>3.77</td><td>1.513</td><td>16.90</td></tr>\n",
       "\t<tr><th scope=row>Ford Pantera L</th><td>15.8</td><td>351.0</td><td>264</td><td>4.22</td><td>3.170</td><td>14.50</td></tr>\n",
       "\t<tr><th scope=row>Ferrari Dino</th><td>19.7</td><td>145.0</td><td>175</td><td>3.62</td><td>2.770</td><td>15.50</td></tr>\n",
       "\t<tr><th scope=row>Maserati Bora</th><td>15.0</td><td>301.0</td><td>335</td><td>3.54</td><td>3.570</td><td>14.60</td></tr>\n",
       "\t<tr><th scope=row>Volvo 142E</th><td>21.4</td><td>121.0</td><td>109</td><td>4.11</td><td>2.780</td><td>18.60</td></tr>\n",
       "</tbody>\n",
       "</table>\n"
      ],
      "text/latex": [
       "A data.frame: 32 × 6\n",
       "\\begin{tabular}{r|llllll}\n",
       "  & mpg & disp & hp & drat & wt & qsec\\\\\n",
       "  & <dbl> & <dbl> & <dbl> & <dbl> & <dbl> & <dbl>\\\\\n",
       "\\hline\n",
       "\tMazda RX4 & 21.0 & 160.0 & 110 & 3.90 & 2.620 & 16.46\\\\\n",
       "\tMazda RX4 Wag & 21.0 & 160.0 & 110 & 3.90 & 2.875 & 17.02\\\\\n",
       "\tDatsun 710 & 22.8 & 108.0 &  93 & 3.85 & 2.320 & 18.61\\\\\n",
       "\tHornet 4 Drive & 21.4 & 258.0 & 110 & 3.08 & 3.215 & 19.44\\\\\n",
       "\tHornet Sportabout & 18.7 & 360.0 & 175 & 3.15 & 3.440 & 17.02\\\\\n",
       "\tValiant & 18.1 & 225.0 & 105 & 2.76 & 3.460 & 20.22\\\\\n",
       "\tDuster 360 & 14.3 & 360.0 & 245 & 3.21 & 3.570 & 15.84\\\\\n",
       "\tMerc 240D & 24.4 & 146.7 &  62 & 3.69 & 3.190 & 20.00\\\\\n",
       "\tMerc 230 & 22.8 & 140.8 &  95 & 3.92 & 3.150 & 22.90\\\\\n",
       "\tMerc 280 & 19.2 & 167.6 & 123 & 3.92 & 3.440 & 18.30\\\\\n",
       "\tMerc 280C & 17.8 & 167.6 & 123 & 3.92 & 3.440 & 18.90\\\\\n",
       "\tMerc 450SE & 16.4 & 275.8 & 180 & 3.07 & 4.070 & 17.40\\\\\n",
       "\tMerc 450SL & 17.3 & 275.8 & 180 & 3.07 & 3.730 & 17.60\\\\\n",
       "\tMerc 450SLC & 15.2 & 275.8 & 180 & 3.07 & 3.780 & 18.00\\\\\n",
       "\tCadillac Fleetwood & 10.4 & 472.0 & 205 & 2.93 & 5.250 & 17.98\\\\\n",
       "\tLincoln Continental & 10.4 & 460.0 & 215 & 3.00 & 5.424 & 17.82\\\\\n",
       "\tChrysler Imperial & 14.7 & 440.0 & 230 & 3.23 & 5.345 & 17.42\\\\\n",
       "\tFiat 128 & 32.4 &  78.7 &  66 & 4.08 & 2.200 & 19.47\\\\\n",
       "\tHonda Civic & 30.4 &  75.7 &  52 & 4.93 & 1.615 & 18.52\\\\\n",
       "\tToyota Corolla & 33.9 &  71.1 &  65 & 4.22 & 1.835 & 19.90\\\\\n",
       "\tToyota Corona & 21.5 & 120.1 &  97 & 3.70 & 2.465 & 20.01\\\\\n",
       "\tDodge Challenger & 15.5 & 318.0 & 150 & 2.76 & 3.520 & 16.87\\\\\n",
       "\tAMC Javelin & 15.2 & 304.0 & 150 & 3.15 & 3.435 & 17.30\\\\\n",
       "\tCamaro Z28 & 13.3 & 350.0 & 245 & 3.73 & 3.840 & 15.41\\\\\n",
       "\tPontiac Firebird & 19.2 & 400.0 & 175 & 3.08 & 3.845 & 17.05\\\\\n",
       "\tFiat X1-9 & 27.3 &  79.0 &  66 & 4.08 & 1.935 & 18.90\\\\\n",
       "\tPorsche 914-2 & 26.0 & 120.3 &  91 & 4.43 & 2.140 & 16.70\\\\\n",
       "\tLotus Europa & 30.4 &  95.1 & 113 & 3.77 & 1.513 & 16.90\\\\\n",
       "\tFord Pantera L & 15.8 & 351.0 & 264 & 4.22 & 3.170 & 14.50\\\\\n",
       "\tFerrari Dino & 19.7 & 145.0 & 175 & 3.62 & 2.770 & 15.50\\\\\n",
       "\tMaserati Bora & 15.0 & 301.0 & 335 & 3.54 & 3.570 & 14.60\\\\\n",
       "\tVolvo 142E & 21.4 & 121.0 & 109 & 4.11 & 2.780 & 18.60\\\\\n",
       "\\end{tabular}\n"
      ],
      "text/markdown": [
       "\n",
       "A data.frame: 32 × 6\n",
       "\n",
       "| <!--/--> | mpg &lt;dbl&gt; | disp &lt;dbl&gt; | hp &lt;dbl&gt; | drat &lt;dbl&gt; | wt &lt;dbl&gt; | qsec &lt;dbl&gt; |\n",
       "|---|---|---|---|---|---|---|\n",
       "| Mazda RX4 | 21.0 | 160.0 | 110 | 3.90 | 2.620 | 16.46 |\n",
       "| Mazda RX4 Wag | 21.0 | 160.0 | 110 | 3.90 | 2.875 | 17.02 |\n",
       "| Datsun 710 | 22.8 | 108.0 |  93 | 3.85 | 2.320 | 18.61 |\n",
       "| Hornet 4 Drive | 21.4 | 258.0 | 110 | 3.08 | 3.215 | 19.44 |\n",
       "| Hornet Sportabout | 18.7 | 360.0 | 175 | 3.15 | 3.440 | 17.02 |\n",
       "| Valiant | 18.1 | 225.0 | 105 | 2.76 | 3.460 | 20.22 |\n",
       "| Duster 360 | 14.3 | 360.0 | 245 | 3.21 | 3.570 | 15.84 |\n",
       "| Merc 240D | 24.4 | 146.7 |  62 | 3.69 | 3.190 | 20.00 |\n",
       "| Merc 230 | 22.8 | 140.8 |  95 | 3.92 | 3.150 | 22.90 |\n",
       "| Merc 280 | 19.2 | 167.6 | 123 | 3.92 | 3.440 | 18.30 |\n",
       "| Merc 280C | 17.8 | 167.6 | 123 | 3.92 | 3.440 | 18.90 |\n",
       "| Merc 450SE | 16.4 | 275.8 | 180 | 3.07 | 4.070 | 17.40 |\n",
       "| Merc 450SL | 17.3 | 275.8 | 180 | 3.07 | 3.730 | 17.60 |\n",
       "| Merc 450SLC | 15.2 | 275.8 | 180 | 3.07 | 3.780 | 18.00 |\n",
       "| Cadillac Fleetwood | 10.4 | 472.0 | 205 | 2.93 | 5.250 | 17.98 |\n",
       "| Lincoln Continental | 10.4 | 460.0 | 215 | 3.00 | 5.424 | 17.82 |\n",
       "| Chrysler Imperial | 14.7 | 440.0 | 230 | 3.23 | 5.345 | 17.42 |\n",
       "| Fiat 128 | 32.4 |  78.7 |  66 | 4.08 | 2.200 | 19.47 |\n",
       "| Honda Civic | 30.4 |  75.7 |  52 | 4.93 | 1.615 | 18.52 |\n",
       "| Toyota Corolla | 33.9 |  71.1 |  65 | 4.22 | 1.835 | 19.90 |\n",
       "| Toyota Corona | 21.5 | 120.1 |  97 | 3.70 | 2.465 | 20.01 |\n",
       "| Dodge Challenger | 15.5 | 318.0 | 150 | 2.76 | 3.520 | 16.87 |\n",
       "| AMC Javelin | 15.2 | 304.0 | 150 | 3.15 | 3.435 | 17.30 |\n",
       "| Camaro Z28 | 13.3 | 350.0 | 245 | 3.73 | 3.840 | 15.41 |\n",
       "| Pontiac Firebird | 19.2 | 400.0 | 175 | 3.08 | 3.845 | 17.05 |\n",
       "| Fiat X1-9 | 27.3 |  79.0 |  66 | 4.08 | 1.935 | 18.90 |\n",
       "| Porsche 914-2 | 26.0 | 120.3 |  91 | 4.43 | 2.140 | 16.70 |\n",
       "| Lotus Europa | 30.4 |  95.1 | 113 | 3.77 | 1.513 | 16.90 |\n",
       "| Ford Pantera L | 15.8 | 351.0 | 264 | 4.22 | 3.170 | 14.50 |\n",
       "| Ferrari Dino | 19.7 | 145.0 | 175 | 3.62 | 2.770 | 15.50 |\n",
       "| Maserati Bora | 15.0 | 301.0 | 335 | 3.54 | 3.570 | 14.60 |\n",
       "| Volvo 142E | 21.4 | 121.0 | 109 | 4.11 | 2.780 | 18.60 |\n",
       "\n"
      ],
      "text/plain": [
       "                    mpg  disp  hp  drat wt    qsec \n",
       "Mazda RX4           21.0 160.0 110 3.90 2.620 16.46\n",
       "Mazda RX4 Wag       21.0 160.0 110 3.90 2.875 17.02\n",
       "Datsun 710          22.8 108.0  93 3.85 2.320 18.61\n",
       "Hornet 4 Drive      21.4 258.0 110 3.08 3.215 19.44\n",
       "Hornet Sportabout   18.7 360.0 175 3.15 3.440 17.02\n",
       "Valiant             18.1 225.0 105 2.76 3.460 20.22\n",
       "Duster 360          14.3 360.0 245 3.21 3.570 15.84\n",
       "Merc 240D           24.4 146.7  62 3.69 3.190 20.00\n",
       "Merc 230            22.8 140.8  95 3.92 3.150 22.90\n",
       "Merc 280            19.2 167.6 123 3.92 3.440 18.30\n",
       "Merc 280C           17.8 167.6 123 3.92 3.440 18.90\n",
       "Merc 450SE          16.4 275.8 180 3.07 4.070 17.40\n",
       "Merc 450SL          17.3 275.8 180 3.07 3.730 17.60\n",
       "Merc 450SLC         15.2 275.8 180 3.07 3.780 18.00\n",
       "Cadillac Fleetwood  10.4 472.0 205 2.93 5.250 17.98\n",
       "Lincoln Continental 10.4 460.0 215 3.00 5.424 17.82\n",
       "Chrysler Imperial   14.7 440.0 230 3.23 5.345 17.42\n",
       "Fiat 128            32.4  78.7  66 4.08 2.200 19.47\n",
       "Honda Civic         30.4  75.7  52 4.93 1.615 18.52\n",
       "Toyota Corolla      33.9  71.1  65 4.22 1.835 19.90\n",
       "Toyota Corona       21.5 120.1  97 3.70 2.465 20.01\n",
       "Dodge Challenger    15.5 318.0 150 2.76 3.520 16.87\n",
       "AMC Javelin         15.2 304.0 150 3.15 3.435 17.30\n",
       "Camaro Z28          13.3 350.0 245 3.73 3.840 15.41\n",
       "Pontiac Firebird    19.2 400.0 175 3.08 3.845 17.05\n",
       "Fiat X1-9           27.3  79.0  66 4.08 1.935 18.90\n",
       "Porsche 914-2       26.0 120.3  91 4.43 2.140 16.70\n",
       "Lotus Europa        30.4  95.1 113 3.77 1.513 16.90\n",
       "Ford Pantera L      15.8 351.0 264 4.22 3.170 14.50\n",
       "Ferrari Dino        19.7 145.0 175 3.62 2.770 15.50\n",
       "Maserati Bora       15.0 301.0 335 3.54 3.570 14.60\n",
       "Volvo 142E          21.4 121.0 109 4.11 2.780 18.60"
      ]
     },
     "metadata": {},
     "output_type": "display_data"
    }
   ],
   "source": [
    "df"
   ]
  }
 ],
 "metadata": {
  "kernelspec": {
   "display_name": "R",
   "language": "R",
   "name": "ir"
  },
  "language_info": {
   "codemirror_mode": "r",
   "file_extension": ".r",
   "mimetype": "text/x-r-source",
   "name": "R",
   "pygments_lexer": "r",
   "version": "4.2.0"
  }
 },
 "nbformat": 4,
 "nbformat_minor": 5
}
